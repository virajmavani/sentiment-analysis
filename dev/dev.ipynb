{
 "cells": [
  {
   "cell_type": "code",
   "execution_count": 55,
   "metadata": {},
   "outputs": [],
   "source": [
    "import re\n",
    "\n",
    "def load_corpus(corpus_path):\n",
    "    file = open(corpus_path)\n",
    "    \n",
    "    lines = file.readlines()\n",
    "    \n",
    "    X = [tuple([line.split(\"\\t\")[0], int(line.split(\"\\t\")[1])]) for line in lines]\n",
    "    \n",
    "    return X\n",
    "    \n",
    "    "
   ]
  },
  {
   "cell_type": "code",
   "execution_count": 83,
   "metadata": {},
   "outputs": [
    {
     "name": "stdout",
     "output_type": "stream",
     "text": [
      "shot perhaps ’artistically’ with handheld cameras this film is your typical ’fish out of water’ story\n",
      "[('’', 'fish ')]\n",
      "[(' water', '’')]\n",
      "[('’', 'artistically', '’')]\n"
     ]
    }
   ],
   "source": [
    "txt = r\"shot perhaps ’artistically’ with handheld cameras this film is your typical ’fish out of water’ story\"\n",
    "\n",
    "print(txt)\n",
    "\n",
    "r_begin = re.compile(r'(’)(\\w+ )')\n",
    "r_end = re.compile(r\"( \\w+)(’)\")\n",
    "r_full = re.compile(\"(’)(\\w+)(’)\")"
   ]
  },
  {
   "cell_type": "code",
   "execution_count": 85,
   "metadata": {},
   "outputs": [
    {
     "name": "stdout",
     "output_type": "stream",
     "text": [
      "['shot', 'perhaps', '’', 'artistically', '’', 'with', 'handheld', 'cameras', 'this', 'film', 'is', 'your', 'typical', '’', 'fish', 'out', 'of', 'water', '’', 'story']\n"
     ]
    }
   ],
   "source": [
    "def tokenize(snippet):\n",
    "    out = re.sub(r_begin, r\"\\1 \\2\", snippet)\n",
    "    out = re.sub(r_end, r\"\\1 \\2\", out)\n",
    "    out = re.sub(r_full, r\"\\1 \\2 \\3\", out)\n",
    "    \n",
    "    return out.split()\n",
    "\n",
    "print(tokenize(txt))"
   ]
  },
  {
   "cell_type": "code",
   "execution_count": null,
   "metadata": {},
   "outputs": [],
   "source": []
  }
 ],
 "metadata": {
  "kernelspec": {
   "display_name": "Python 3",
   "language": "python",
   "name": "python3"
  },
  "language_info": {
   "codemirror_mode": {
    "name": "ipython",
    "version": 3
   },
   "file_extension": ".py",
   "mimetype": "text/x-python",
   "name": "python",
   "nbconvert_exporter": "python",
   "pygments_lexer": "ipython3",
   "version": "3.6.5"
  }
 },
 "nbformat": 4,
 "nbformat_minor": 2
}
